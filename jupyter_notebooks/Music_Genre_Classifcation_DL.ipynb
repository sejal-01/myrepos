{
  "cells": [
    {
      "cell_type": "markdown",
      "metadata": {
        "id": "yJN6dbv_3oOt"
      },
      "source": [
        "### ***Music Genre Classification ***"
      ]
    },
    {
      "cell_type": "code",
      "execution_count": 1,
      "metadata": {
        "id": "uBV5mbHc1CX6"
      },
      "outputs": [],
      "source": [
        "import json\n",
        "import numpy as np\n",
        "from sklearn.model_selection import train_test_split\n",
        "import keras \n",
        "\n",
        "import matplotlib.pyplot as plt\n",
        "import random\n",
        "\n",
        "import librosa\n",
        "import math\n",
        "     "
      ]
    },
    {
      "cell_type": "code",
      "execution_count": null,
      "metadata": {
        "id": "yUiNUjpV1Q60"
      },
      "outputs": [],
      "source": [
        "DATA_PATH = \"/content/drive/MyDrive/music_genre_classification/Data/genres_original/data_10.json\"\n",
        "     "
      ]
    },
    {
      "cell_type": "code",
      "execution_count": null,
      "metadata": {
        "id": "w1QGmNUj1Q9b"
      },
      "outputs": [],
      "source": [
        "def load_data(data_path):\n",
        "\n",
        "    with open(data_path, \"r\") as f:\n",
        "        data = json.load(f)\n",
        "\n",
        "    # convert lists to numpy arrays\n",
        "    X = np.array(data[\"mfcc\"])\n",
        "    y = np.array(data[\"labels\"])\n",
        "\n",
        "    print(\"Data succesfully loaded!\")\n",
        "\n",
        "    return  X, y"
      ]
    },
    {
      "cell_type": "code",
      "execution_count": null,
      "metadata": {
        "colab": {
          "base_uri": "https://localhost:8080/"
        },
        "id": "PKvAY3do1RBf",
        "outputId": "422b4fa8-7bb7-40f1-a924-04daf46556ef"
      },
      "outputs": [
        {
          "name": "stdout",
          "output_type": "stream",
          "text": [
            "Data succesfully loaded!\n"
          ]
        }
      ],
      "source": [
        "X, y = load_data(DATA_PATH)"
      ]
    },
    {
      "cell_type": "code",
      "execution_count": null,
      "metadata": {
        "colab": {
          "base_uri": "https://localhost:8080/"
        },
        "id": "DZM8U9kM1REZ",
        "outputId": "857a07f7-8f33-4415-909a-fa6199dbd939"
      },
      "outputs": [
        {
          "data": {
            "text/plain": [
              "(9986, 130, 13)"
            ]
          },
          "execution_count": 12,
          "metadata": {},
          "output_type": "execute_result"
        }
      ],
      "source": [
        "X.shape"
      ]
    },
    {
      "cell_type": "code",
      "execution_count": null,
      "metadata": {
        "id": "cLRZMkgO1RIA"
      },
      "outputs": [],
      "source": [
        "X_train, X_test, y_train, y_test = train_test_split(X, y, test_size=0.3)\n",
        "\n"
      ]
    },
    {
      "cell_type": "code",
      "execution_count": null,
      "metadata": {
        "colab": {
          "background_save": true
        },
        "id": "xo2xWwj11RKz"
      },
      "outputs": [],
      "source": [
        "#Apply Simple ANN\n",
        "# build network topology\n",
        "model = keras.Sequential([\n",
        "\n",
        "    # input layer\n",
        "    keras.layers.Flatten(input_shape=(X.shape[1], X.shape[2])),\n",
        "\n",
        "    # 1st dense layer\n",
        "    keras.layers.Dense(512, activation='relu'),\n",
        "\n",
        "    # 2nd dense layer\n",
        "    keras.layers.Dense(256, activation='relu'),\n",
        "\n",
        "    # 3rd dense layer\n",
        "    keras.layers.Dense(64, activation='relu'),\n",
        "\n",
        "    # output layer\n",
        "    keras.layers.Dense(10, activation='softmax')\n",
        "])\n",
        "\n"
      ]
    },
    {
      "cell_type": "code",
      "execution_count": null,
      "metadata": {
        "id": "fJI__Cxn1RQH"
      },
      "outputs": [],
      "source": [
        "# compile model\n",
        "optimiser = keras.optimizers.Adam(learning_rate=0.0001)\n",
        "model.compile(optimizer=optimiser,\n",
        "              loss='sparse_categorical_crossentropy',\n",
        "              metrics=['accuracy'])\n",
        "     "
      ]
    },
    {
      "cell_type": "code",
      "execution_count": null,
      "metadata": {
        "colab": {
          "base_uri": "https://localhost:8080/"
        },
        "id": "6P89vKwb1RWK",
        "outputId": "37d46856-29a4-4a14-979c-5d08da405bc2"
      },
      "outputs": [
        {
          "name": "stdout",
          "output_type": "stream",
          "text": [
            "Model: \"sequential\"\n",
            "_________________________________________________________________\n",
            " Layer (type)                Output Shape              Param #   \n",
            "=================================================================\n",
            " flatten (Flatten)           (None, 1690)              0         \n",
            "                                                                 \n",
            " dense (Dense)               (None, 512)               865792    \n",
            "                                                                 \n",
            " dense_1 (Dense)             (None, 256)               131328    \n",
            "                                                                 \n",
            " dense_2 (Dense)             (None, 64)                16448     \n",
            "                                                                 \n",
            " dense_3 (Dense)             (None, 10)                650       \n",
            "                                                                 \n",
            "=================================================================\n",
            "Total params: 1,014,218\n",
            "Trainable params: 1,014,218\n",
            "Non-trainable params: 0\n",
            "_________________________________________________________________\n"
          ]
        }
      ],
      "source": [
        "model.summary()"
      ]
    },
    {
      "cell_type": "code",
      "execution_count": null,
      "metadata": {
        "colab": {
          "base_uri": "https://localhost:8080/"
        },
        "id": "NuiWTE6H1MID",
        "outputId": "f62bb8dc-748a-48d5-c1cf-40314c492695"
      },
      "outputs": [
        {
          "name": "stdout",
          "output_type": "stream",
          "text": [
            "Epoch 1/50\n",
            "219/219 [==============================] - 9s 38ms/step - loss: 6.7119 - accuracy: 0.2721 - val_loss: 2.2944 - val_accuracy: 0.2363\n",
            "Epoch 2/50\n",
            "219/219 [==============================] - 9s 42ms/step - loss: 2.0801 - accuracy: 0.2873 - val_loss: 2.1705 - val_accuracy: 0.2664\n",
            "Epoch 3/50\n",
            "219/219 [==============================] - 8s 37ms/step - loss: 1.8839 - accuracy: 0.3471 - val_loss: 2.1194 - val_accuracy: 0.3304\n",
            "Epoch 4/50\n",
            "219/219 [==============================] - 7s 30ms/step - loss: 1.7858 - accuracy: 0.3827 - val_loss: 2.0920 - val_accuracy: 0.3588\n",
            "Epoch 5/50\n",
            "219/219 [==============================] - 9s 40ms/step - loss: 1.7075 - accuracy: 0.4014 - val_loss: 2.0398 - val_accuracy: 0.3288\n",
            "Epoch 6/50\n",
            "219/219 [==============================] - 9s 43ms/step - loss: 1.6103 - accuracy: 0.4449 - val_loss: 1.9871 - val_accuracy: 0.3835\n",
            "Epoch 7/50\n",
            "219/219 [==============================] - 9s 42ms/step - loss: 1.5244 - accuracy: 0.4714 - val_loss: 2.0603 - val_accuracy: 0.4065\n",
            "Epoch 8/50\n",
            "219/219 [==============================] - 7s 32ms/step - loss: 1.4248 - accuracy: 0.5063 - val_loss: 1.9499 - val_accuracy: 0.4209\n",
            "Epoch 9/50\n",
            "219/219 [==============================] - 9s 43ms/step - loss: 1.3548 - accuracy: 0.5296 - val_loss: 1.9600 - val_accuracy: 0.4159\n",
            "Epoch 10/50\n",
            "219/219 [==============================] - 9s 41ms/step - loss: 1.2491 - accuracy: 0.5668 - val_loss: 1.9392 - val_accuracy: 0.4673\n",
            "Epoch 11/50\n",
            "219/219 [==============================] - 8s 36ms/step - loss: 1.1970 - accuracy: 0.5841 - val_loss: 1.9667 - val_accuracy: 0.4716\n",
            "Epoch 12/50\n",
            "219/219 [==============================] - 8s 37ms/step - loss: 1.1219 - accuracy: 0.6066 - val_loss: 1.8707 - val_accuracy: 0.5020\n",
            "Epoch 13/50\n",
            "219/219 [==============================] - 8s 37ms/step - loss: 1.0434 - accuracy: 0.6383 - val_loss: 2.0057 - val_accuracy: 0.4890\n",
            "Epoch 14/50\n",
            "219/219 [==============================] - 8s 34ms/step - loss: 0.9804 - accuracy: 0.6612 - val_loss: 1.8862 - val_accuracy: 0.4923\n",
            "Epoch 15/50\n",
            "219/219 [==============================] - 8s 35ms/step - loss: 0.9307 - accuracy: 0.6728 - val_loss: 1.8726 - val_accuracy: 0.4947\n",
            "Epoch 16/50\n",
            "219/219 [==============================] - 8s 39ms/step - loss: 0.8615 - accuracy: 0.6997 - val_loss: 1.9302 - val_accuracy: 0.5127\n",
            "Epoch 17/50\n",
            "219/219 [==============================] - 9s 40ms/step - loss: 0.8137 - accuracy: 0.7179 - val_loss: 1.8487 - val_accuracy: 0.5160\n",
            "Epoch 18/50\n",
            "219/219 [==============================] - 9s 42ms/step - loss: 0.7693 - accuracy: 0.7340 - val_loss: 1.8721 - val_accuracy: 0.5320\n",
            "Epoch 19/50\n",
            "219/219 [==============================] - 8s 36ms/step - loss: 0.7269 - accuracy: 0.7462 - val_loss: 2.0418 - val_accuracy: 0.5264\n",
            "Epoch 20/50\n",
            "219/219 [==============================] - 7s 31ms/step - loss: 0.6400 - accuracy: 0.7761 - val_loss: 1.9391 - val_accuracy: 0.5424\n",
            "Epoch 21/50\n",
            "219/219 [==============================] - 8s 37ms/step - loss: 0.6293 - accuracy: 0.7771 - val_loss: 1.9465 - val_accuracy: 0.5304\n",
            "Epoch 22/50\n",
            "219/219 [==============================] - 8s 37ms/step - loss: 0.5853 - accuracy: 0.7917 - val_loss: 1.8644 - val_accuracy: 0.5491\n",
            "Epoch 23/50\n",
            "219/219 [==============================] - 8s 36ms/step - loss: 0.5691 - accuracy: 0.7983 - val_loss: 1.9024 - val_accuracy: 0.5437\n",
            "Epoch 24/50\n",
            "219/219 [==============================] - 10s 45ms/step - loss: 0.5183 - accuracy: 0.8134 - val_loss: 1.9536 - val_accuracy: 0.5601\n",
            "Epoch 25/50\n",
            "219/219 [==============================] - 7s 34ms/step - loss: 0.4777 - accuracy: 0.8309 - val_loss: 2.0492 - val_accuracy: 0.5611\n",
            "Epoch 26/50\n",
            "219/219 [==============================] - 8s 34ms/step - loss: 0.4826 - accuracy: 0.8315 - val_loss: 2.0427 - val_accuracy: 0.5571\n",
            "Epoch 27/50\n",
            "219/219 [==============================] - 8s 37ms/step - loss: 0.4291 - accuracy: 0.8506 - val_loss: 2.0429 - val_accuracy: 0.5581\n",
            "Epoch 28/50\n",
            "219/219 [==============================] - 8s 37ms/step - loss: 0.3970 - accuracy: 0.8645 - val_loss: 2.0587 - val_accuracy: 0.5721\n",
            "Epoch 29/50\n",
            "219/219 [==============================] - 8s 35ms/step - loss: 0.3727 - accuracy: 0.8632 - val_loss: 2.0166 - val_accuracy: 0.5651\n",
            "Epoch 30/50\n",
            "219/219 [==============================] - 8s 36ms/step - loss: 0.3360 - accuracy: 0.8827 - val_loss: 2.3050 - val_accuracy: 0.5564\n",
            "Epoch 31/50\n",
            "219/219 [==============================] - 8s 37ms/step - loss: 0.3109 - accuracy: 0.8874 - val_loss: 2.0183 - val_accuracy: 0.5691\n",
            "Epoch 32/50\n",
            "219/219 [==============================] - 7s 32ms/step - loss: 0.2980 - accuracy: 0.8969 - val_loss: 2.1786 - val_accuracy: 0.5854\n",
            "Epoch 33/50\n",
            "219/219 [==============================] - 9s 39ms/step - loss: 0.3112 - accuracy: 0.8908 - val_loss: 2.1228 - val_accuracy: 0.5791\n",
            "Epoch 34/50\n",
            "219/219 [==============================] - 9s 39ms/step - loss: 0.2563 - accuracy: 0.9112 - val_loss: 2.3309 - val_accuracy: 0.5567\n",
            "Epoch 35/50\n",
            "219/219 [==============================] - 9s 41ms/step - loss: 0.2819 - accuracy: 0.9019 - val_loss: 2.2375 - val_accuracy: 0.5758\n",
            "Epoch 36/50\n",
            "219/219 [==============================] - 9s 39ms/step - loss: 0.2238 - accuracy: 0.9227 - val_loss: 2.1947 - val_accuracy: 0.5898\n",
            "Epoch 37/50\n",
            "219/219 [==============================] - 7s 34ms/step - loss: 0.2789 - accuracy: 0.9059 - val_loss: 2.4452 - val_accuracy: 0.5658\n",
            "Epoch 38/50\n",
            "219/219 [==============================] - 7s 33ms/step - loss: 0.2268 - accuracy: 0.9205 - val_loss: 2.3463 - val_accuracy: 0.5771\n",
            "Epoch 39/50\n",
            "219/219 [==============================] - 7s 31ms/step - loss: 0.1931 - accuracy: 0.9308 - val_loss: 2.3014 - val_accuracy: 0.5794\n",
            "Epoch 40/50\n",
            "219/219 [==============================] - 5s 25ms/step - loss: 0.1645 - accuracy: 0.9446 - val_loss: 2.4031 - val_accuracy: 0.5978\n",
            "Epoch 41/50\n",
            "219/219 [==============================] - 5s 23ms/step - loss: 0.1821 - accuracy: 0.9399 - val_loss: 2.3318 - val_accuracy: 0.5891\n",
            "Epoch 42/50\n",
            "219/219 [==============================] - 7s 32ms/step - loss: 0.1906 - accuracy: 0.9323 - val_loss: 2.4595 - val_accuracy: 0.5694\n",
            "Epoch 43/50\n",
            "219/219 [==============================] - 8s 35ms/step - loss: 0.1552 - accuracy: 0.9475 - val_loss: 2.5085 - val_accuracy: 0.5981\n",
            "Epoch 44/50\n",
            "219/219 [==============================] - 7s 34ms/step - loss: 0.1926 - accuracy: 0.9342 - val_loss: 2.5971 - val_accuracy: 0.5751\n",
            "Epoch 45/50\n",
            "219/219 [==============================] - 8s 37ms/step - loss: 0.1336 - accuracy: 0.9572 - val_loss: 2.4129 - val_accuracy: 0.6028\n",
            "Epoch 46/50\n",
            "219/219 [==============================] - 8s 36ms/step - loss: 0.1528 - accuracy: 0.9494 - val_loss: 2.5442 - val_accuracy: 0.5958\n",
            "Epoch 47/50\n",
            "219/219 [==============================] - 8s 38ms/step - loss: 0.1376 - accuracy: 0.9529 - val_loss: 2.4869 - val_accuracy: 0.6051\n",
            "Epoch 48/50\n",
            "219/219 [==============================] - 9s 41ms/step - loss: 0.1710 - accuracy: 0.9438 - val_loss: 2.6949 - val_accuracy: 0.5941\n",
            "Epoch 49/50\n",
            "219/219 [==============================] - 9s 41ms/step - loss: 0.1681 - accuracy: 0.9425 - val_loss: 2.6499 - val_accuracy: 0.5818\n",
            "Epoch 50/50\n",
            "219/219 [==============================] - 8s 36ms/step - loss: 0.1629 - accuracy: 0.9465 - val_loss: 2.4981 - val_accuracy: 0.5995\n"
          ]
        }
      ],
      "source": [
        "# train model\n",
        "history = model.fit(X_train, y_train, validation_data=(X_test, y_test), batch_size=32, epochs=50)\n",
        "     "
      ]
    },
    {
      "cell_type": "code",
      "execution_count": null,
      "metadata": {
        "id": "MGUDlHy91MM0"
      },
      "outputs": [],
      "source": [
        "def plot_history(history):\n",
        "\n",
        "    fig, axs = plt.subplots(2)\n",
        "\n",
        "    # create accuracy sublpot\n",
        "    axs[0].plot(history.history[\"accuracy\"], label=\"train accuracy\")\n",
        "    axs[0].plot(history.history[\"val_accuracy\"], label=\"test accuracy\")\n",
        "    axs[0].set_ylabel(\"Accuracy\")\n",
        "    axs[0].legend(loc=\"lower right\")\n",
        "    axs[0].set_title(\"Accuracy eval\")\n",
        "\n",
        "    # create error sublpot\n",
        "    axs[1].plot(history.history[\"loss\"], label=\"train error\")\n",
        "    axs[1].plot(history.history[\"val_loss\"], label=\"test error\")\n",
        "    axs[1].set_ylabel(\"Error\")\n",
        "    axs[1].set_xlabel(\"Epoch\")\n",
        "    axs[1].legend(loc=\"upper right\")\n",
        "    axs[1].set_title(\"Error eval\")\n",
        "    \n",
        "    plt.show()\n",
        "     "
      ]
    },
    {
      "cell_type": "code",
      "execution_count": null,
      "metadata": {
        "colab": {
          "base_uri": "https://localhost:8080/",
          "height": 295
        },
        "id": "Yxe5e1YR1McC",
        "outputId": "848a7041-c509-4df0-9e68-069ec8a48df7"
      },
      "outputs": [
        {
          "data": {
            "image/png": "[encoded data removed]",
            "text/plain": [
              "<Figure size 432x288 with 2 Axes>"
            ]
          },
          "metadata": {},
          "output_type": "display_data"
        }
      ],
      "source": [
        "plot_history(history)\n",
        "     "
      ]
    },
    {
      "cell_type": "code",
      "execution_count": null,
      "metadata": {
        "id": "vZhNygr61Mkf"
      },
      "outputs": [],
      "source": [
        "# build network topology\n",
        "model_regularized = keras.Sequential([\n",
        "\n",
        "    # input layer\n",
        "    keras.layers.Flatten(input_shape=(X.shape[1], X.shape[2])),\n",
        "\n",
        "    # 1st dense layer\n",
        "    keras.layers.Dense(512, activation='relu', kernel_regularizer=keras.regularizers.l2(0.001)),\n",
        "    keras.layers.Dropout(0.3),\n",
        "\n",
        "    # 2nd dense layer\n",
        "    keras.layers.Dense(256, activation='relu', kernel_regularizer=keras.regularizers.l2(0.001)),\n",
        "    keras.layers.Dropout(0.3),\n",
        "\n",
        "    # 3rd dense layer\n",
        "    keras.layers.Dense(64, activation='relu', kernel_regularizer=keras.regularizers.l2(0.001)),\n",
        "    keras.layers.Dropout(0.3),\n",
        "\n",
        "    # output layer\n",
        "    keras.layers.Dense(10, activation='softmax')\n",
        "])\n"
      ]
    },
    {
      "cell_type": "code",
      "execution_count": null,
      "metadata": {
        "id": "HddgDbyi1Mrr"
      },
      "outputs": [],
      "source": [
        "# compile model\n",
        "optimiser = keras.optimizers.Adam(learning_rate=0.0001)\n",
        "model_regularized.compile(optimizer=optimiser,\n",
        "              loss='sparse_categorical_crossentropy',\n",
        "              metrics=['accuracy'])"
      ]
    },
    {
      "cell_type": "code",
      "execution_count": null,
      "metadata": {
        "colab": {
          "background_save": true,
          "base_uri": "https://localhost:8080/"
        },
        "id": "x79aLc2U1MzS",
        "outputId": "b41f9a96-c26c-4e56-8090-2a6a53a6782f"
      },
      "outputs": [
        {
          "name": "stdout",
          "output_type": "stream",
          "text": [
            "Epoch 1/100\n",
            "219/219 [==============================] - 3s 13ms/step - loss: 25.3004 - accuracy: 0.1642 - val_loss: 3.8490 - val_accuracy: 0.2627\n",
            "Epoch 2/100\n",
            "219/219 [==============================] - 4s 18ms/step - loss: 7.5261 - accuracy: 0.1883 - val_loss: 3.4679 - val_accuracy: 0.1796\n",
            "Epoch 3/100\n",
            "219/219 [==============================] - 3s 13ms/step - loss: 4.9771 - accuracy: 0.1651 - val_loss: 3.4769 - val_accuracy: 0.1312\n",
            "Epoch 4/100\n",
            "219/219 [==============================] - 3s 12ms/step - loss: 4.1421 - accuracy: 0.1541 - val_loss: 3.4607 - val_accuracy: 0.1368\n",
            "Epoch 5/100\n",
            "219/219 [==============================] - 3s 12ms/step - loss: 3.8094 - accuracy: 0.1574 - val_loss: 3.4494 - val_accuracy: 0.1459\n",
            "Epoch 6/100\n",
            "219/219 [==============================] - 3s 11ms/step - loss: 3.6405 - accuracy: 0.1648 - val_loss: 3.4339 - val_accuracy: 0.1545\n",
            "Epoch 7/100\n",
            "219/219 [==============================] - 4s 17ms/step - loss: 3.5712 - accuracy: 0.1714 - val_loss: 3.4083 - val_accuracy: 0.1612\n",
            "Epoch 8/100\n",
            "219/219 [==============================] - 3s 15ms/step - loss: 3.5079 - accuracy: 0.1710 - val_loss: 3.3934 - val_accuracy: 0.1726\n",
            "Epoch 9/100\n",
            "219/219 [==============================] - 3s 13ms/step - loss: 3.4562 - accuracy: 0.1840 - val_loss: 3.3625 - val_accuracy: 0.1926\n",
            "Epoch 10/100\n",
            "219/219 [==============================] - 3s 12ms/step - loss: 3.4281 - accuracy: 0.2033 - val_loss: 3.3568 - val_accuracy: 0.1889\n",
            "Epoch 11/100\n",
            "219/219 [==============================] - 3s 13ms/step - loss: 3.3867 - accuracy: 0.2064 - val_loss: 3.3365 - val_accuracy: 0.1916\n",
            "Epoch 12/100\n",
            "219/219 [==============================] - 4s 18ms/step - loss: 3.3625 - accuracy: 0.1999 - val_loss: 3.3146 - val_accuracy: 0.1979\n",
            "Epoch 13/100\n",
            "219/219 [==============================] - 3s 12ms/step - loss: 3.3257 - accuracy: 0.2292 - val_loss: 3.2080 - val_accuracy: 0.2974\n",
            "Epoch 14/100\n",
            "219/219 [==============================] - 3s 12ms/step - loss: 3.2786 - accuracy: 0.2535 - val_loss: 3.1432 - val_accuracy: 0.3168\n",
            "Epoch 15/100\n",
            "219/219 [==============================] - 3s 12ms/step - loss: 3.2143 - accuracy: 0.2702 - val_loss: 3.1358 - val_accuracy: 0.3168\n",
            "Epoch 16/100\n",
            "219/219 [==============================] - 3s 13ms/step - loss: 3.1897 - accuracy: 0.2734 - val_loss: 3.0998 - val_accuracy: 0.3191\n",
            "Epoch 17/100\n",
            "219/219 [==============================] - 4s 17ms/step - loss: 3.1842 - accuracy: 0.2728 - val_loss: 3.0421 - val_accuracy: 0.3341\n",
            "Epoch 18/100\n",
            "219/219 [==============================] - 3s 11ms/step - loss: 3.1326 - accuracy: 0.2781 - val_loss: 3.0238 - val_accuracy: 0.3278\n",
            "Epoch 19/100\n",
            "219/219 [==============================] - 3s 12ms/step - loss: 3.1084 - accuracy: 0.2947 - val_loss: 3.0078 - val_accuracy: 0.3298\n",
            "Epoch 20/100\n",
            "219/219 [==============================] - 3s 12ms/step - loss: 3.0442 - accuracy: 0.3077 - val_loss: 2.9357 - val_accuracy: 0.3425\n",
            "Epoch 21/100\n",
            "219/219 [==============================] - 3s 14ms/step - loss: 3.0184 - accuracy: 0.3040 - val_loss: 2.9165 - val_accuracy: 0.3545\n",
            "Epoch 22/100\n",
            "219/219 [==============================] - 4s 17ms/step - loss: 3.0147 - accuracy: 0.3006 - val_loss: 2.9043 - val_accuracy: 0.3591\n",
            "Epoch 23/100\n",
            "219/219 [==============================] - 3s 12ms/step - loss: 2.9784 - accuracy: 0.3076 - val_loss: 2.8593 - val_accuracy: 0.3495\n",
            "Epoch 24/100\n",
            "219/219 [==============================] - 3s 12ms/step - loss: 2.9176 - accuracy: 0.3130 - val_loss: 2.8392 - val_accuracy: 0.3551\n",
            "Epoch 25/100\n",
            "219/219 [==============================] - 3s 15ms/step - loss: 2.8928 - accuracy: 0.3265 - val_loss: 2.8129 - val_accuracy: 0.3678\n",
            "Epoch 26/100\n",
            "219/219 [==============================] - 4s 20ms/step - loss: 2.8736 - accuracy: 0.3273 - val_loss: 2.7817 - val_accuracy: 0.3748\n",
            "Epoch 27/100\n",
            "219/219 [==============================] - 3s 12ms/step - loss: 2.8268 - accuracy: 0.3313 - val_loss: 2.7676 - val_accuracy: 0.3705\n",
            "Epoch 28/100\n",
            "219/219 [==============================] - 3s 12ms/step - loss: 2.8024 - accuracy: 0.3365 - val_loss: 2.7537 - val_accuracy: 0.3882\n",
            "Epoch 29/100\n",
            "219/219 [==============================] - 3s 12ms/step - loss: 2.7902 - accuracy: 0.3401 - val_loss: 2.7153 - val_accuracy: 0.3892\n",
            "Epoch 30/100\n",
            "219/219 [==============================] - 3s 12ms/step - loss: 2.7376 - accuracy: 0.3389 - val_loss: 2.6643 - val_accuracy: 0.3862\n",
            "Epoch 31/100\n",
            "219/219 [==============================] - 4s 17ms/step - loss: 2.7113 - accuracy: 0.3461 - val_loss: 2.6543 - val_accuracy: 0.3762\n",
            "Epoch 32/100\n",
            "219/219 [==============================] - 3s 12ms/step - loss: 2.6916 - accuracy: 0.3479 - val_loss: 2.6111 - val_accuracy: 0.4082\n",
            "Epoch 33/100\n",
            "219/219 [==============================] - 2s 11ms/step - loss: 2.6471 - accuracy: 0.3515 - val_loss: 2.5864 - val_accuracy: 0.3955\n",
            "Epoch 34/100\n",
            "219/219 [==============================] - 3s 12ms/step - loss: 2.6303 - accuracy: 0.3571 - val_loss: 2.5628 - val_accuracy: 0.3905\n",
            "Epoch 35/100\n",
            "219/219 [==============================] - 3s 12ms/step - loss: 2.5825 - accuracy: 0.3698 - val_loss: 2.5166 - val_accuracy: 0.4099\n",
            "Epoch 36/100\n",
            "219/219 [==============================] - 4s 16ms/step - loss: 2.5255 - accuracy: 0.3735 - val_loss: 2.4905 - val_accuracy: 0.4342\n",
            "Epoch 37/100\n",
            "219/219 [==============================] - 3s 12ms/step - loss: 2.5227 - accuracy: 0.3665 - val_loss: 2.4508 - val_accuracy: 0.4259\n",
            "Epoch 38/100\n",
            "219/219 [==============================] - 3s 12ms/step - loss: 2.4924 - accuracy: 0.3692 - val_loss: 2.4226 - val_accuracy: 0.4436\n",
            "Epoch 39/100\n",
            "219/219 [==============================] - 3s 12ms/step - loss: 2.4573 - accuracy: 0.3783 - val_loss: 2.3834 - val_accuracy: 0.4376\n",
            "Epoch 40/100\n",
            "219/219 [==============================] - 3s 14ms/step - loss: 2.4362 - accuracy: 0.3880 - val_loss: 2.3782 - val_accuracy: 0.4499\n",
            "Epoch 41/100\n",
            "219/219 [==============================] - 3s 15ms/step - loss: 2.3862 - accuracy: 0.3959 - val_loss: 2.3386 - val_accuracy: 0.4456\n",
            "Epoch 42/100\n",
            "219/219 [==============================] - 3s 12ms/step - loss: 2.3401 - accuracy: 0.3979 - val_loss: 2.3020 - val_accuracy: 0.4576\n",
            "Epoch 43/100\n",
            "219/219 [==============================] - 3s 12ms/step - loss: 2.3269 - accuracy: 0.4024 - val_loss: 2.2865 - val_accuracy: 0.4673\n",
            "Epoch 44/100\n",
            "219/219 [==============================] - 3s 12ms/step - loss: 2.3029 - accuracy: 0.4004 - val_loss: 2.2794 - val_accuracy: 0.4740\n",
            "Epoch 45/100\n",
            "219/219 [==============================] - 3s 16ms/step - loss: 2.2587 - accuracy: 0.4192 - val_loss: 2.2299 - val_accuracy: 0.4740\n",
            "Epoch 46/100\n",
            "219/219 [==============================] - 3s 14ms/step - loss: 2.2128 - accuracy: 0.4240 - val_loss: 2.2066 - val_accuracy: 0.4820\n",
            "Epoch 47/100\n",
            "219/219 [==============================] - 3s 12ms/step - loss: 2.1896 - accuracy: 0.4255 - val_loss: 2.1850 - val_accuracy: 0.4713\n",
            "Epoch 48/100\n",
            "219/219 [==============================] - 3s 12ms/step - loss: 2.1676 - accuracy: 0.4283 - val_loss: 2.1804 - val_accuracy: 0.4816\n",
            "Epoch 49/100\n",
            "219/219 [==============================] - 3s 12ms/step - loss: 2.1132 - accuracy: 0.4461 - val_loss: 2.1624 - val_accuracy: 0.4686\n",
            "Epoch 50/100\n",
            "219/219 [==============================] - 4s 18ms/step - loss: 2.0791 - accuracy: 0.4602 - val_loss: 2.1157 - val_accuracy: 0.4813\n",
            "Epoch 51/100\n",
            "219/219 [==============================] - 3s 12ms/step - loss: 2.0606 - accuracy: 0.4568 - val_loss: 2.1180 - val_accuracy: 0.4760\n",
            "Epoch 52/100\n",
            "219/219 [==============================] - 3s 12ms/step - loss: 2.0434 - accuracy: 0.4559 - val_loss: 2.0811 - val_accuracy: 0.4957\n",
            "Epoch 53/100\n",
            "219/219 [==============================] - 3s 12ms/step - loss: 1.9973 - accuracy: 0.4748 - val_loss: 2.0796 - val_accuracy: 0.5023\n",
            "Epoch 54/100\n",
            "219/219 [==============================] - 3s 14ms/step - loss: 1.9682 - accuracy: 0.4916 - val_loss: 2.0474 - val_accuracy: 0.5170\n",
            "Epoch 55/100\n",
            "219/219 [==============================] - 3s 15ms/step - loss: 1.9270 - accuracy: 0.4948 - val_loss: 2.0516 - val_accuracy: 0.5047\n",
            "Epoch 56/100\n",
            "219/219 [==============================] - 3s 12ms/step - loss: 1.9158 - accuracy: 0.4997 - val_loss: 2.0332 - val_accuracy: 0.5083\n",
            "Epoch 57/100\n",
            "219/219 [==============================] - 3s 12ms/step - loss: 1.8833 - accuracy: 0.5039 - val_loss: 2.0229 - val_accuracy: 0.5160\n",
            "Epoch 58/100\n",
            "219/219 [==============================] - 3s 12ms/step - loss: 1.8700 - accuracy: 0.5072 - val_loss: 1.9876 - val_accuracy: 0.5167\n",
            "Epoch 59/100\n",
            "219/219 [==============================] - 4s 16ms/step - loss: 1.8209 - accuracy: 0.5246 - val_loss: 1.9353 - val_accuracy: 0.5327\n",
            "Epoch 60/100\n",
            "219/219 [==============================] - 3s 13ms/step - loss: 1.8147 - accuracy: 0.5247 - val_loss: 1.9285 - val_accuracy: 0.5264\n",
            "Epoch 61/100\n",
            "219/219 [==============================] - 3s 12ms/step - loss: 1.7752 - accuracy: 0.5293 - val_loss: 1.8969 - val_accuracy: 0.5457\n",
            "Epoch 62/100\n",
            "219/219 [==============================] - 3s 12ms/step - loss: 1.7486 - accuracy: 0.5352 - val_loss: 1.9342 - val_accuracy: 0.5320\n",
            "Epoch 63/100\n",
            "219/219 [==============================] - 3s 12ms/step - loss: 1.7101 - accuracy: 0.5459 - val_loss: 1.9106 - val_accuracy: 0.5364\n",
            "Epoch 64/100\n",
            "219/219 [==============================] - 4s 18ms/step - loss: 1.7084 - accuracy: 0.5551 - val_loss: 1.9336 - val_accuracy: 0.5324\n",
            "Epoch 65/100\n",
            "219/219 [==============================] - 3s 12ms/step - loss: 1.6916 - accuracy: 0.5514 - val_loss: 1.9502 - val_accuracy: 0.5404\n",
            "Epoch 66/100\n",
            "219/219 [==============================] - 3s 12ms/step - loss: 1.6606 - accuracy: 0.5571 - val_loss: 1.9001 - val_accuracy: 0.5421\n",
            "Epoch 67/100\n",
            "219/219 [==============================] - 3s 12ms/step - loss: 1.6187 - accuracy: 0.5722 - val_loss: 1.9040 - val_accuracy: 0.5497\n",
            "Epoch 68/100\n",
            "219/219 [==============================] - 3s 14ms/step - loss: 1.5891 - accuracy: 0.5844 - val_loss: 1.8861 - val_accuracy: 0.5451\n",
            "Epoch 69/100\n",
            "219/219 [==============================] - 3s 15ms/step - loss: 1.5959 - accuracy: 0.5838 - val_loss: 1.9117 - val_accuracy: 0.5421\n",
            "Epoch 70/100\n",
            "219/219 [==============================] - 3s 12ms/step - loss: 1.5551 - accuracy: 0.5911 - val_loss: 1.8838 - val_accuracy: 0.5477\n",
            "Epoch 71/100\n",
            "219/219 [==============================] - 3s 12ms/step - loss: 1.5434 - accuracy: 0.5943 - val_loss: 1.9006 - val_accuracy: 0.5564\n",
            "Epoch 72/100\n",
            "219/219 [==============================] - 3s 12ms/step - loss: 1.5074 - accuracy: 0.6063 - val_loss: 1.8674 - val_accuracy: 0.5484\n",
            "Epoch 73/100\n",
            "219/219 [==============================] - 4s 17ms/step - loss: 1.4834 - accuracy: 0.6190 - val_loss: 1.9275 - val_accuracy: 0.5571\n",
            "Epoch 74/100\n",
            "219/219 [==============================] - 3s 13ms/step - loss: 1.4724 - accuracy: 0.6093 - val_loss: 1.8833 - val_accuracy: 0.5587\n",
            "Epoch 75/100\n",
            "219/219 [==============================] - 3s 12ms/step - loss: 1.4495 - accuracy: 0.6179 - val_loss: 1.9855 - val_accuracy: 0.5581\n",
            "Epoch 76/100\n",
            "219/219 [==============================] - 3s 12ms/step - loss: 1.4300 - accuracy: 0.6210 - val_loss: 1.8527 - val_accuracy: 0.5701\n",
            "Epoch 77/100\n",
            "219/219 [==============================] - 3s 12ms/step - loss: 1.4194 - accuracy: 0.6295 - val_loss: 1.8418 - val_accuracy: 0.5628\n",
            "Epoch 78/100\n",
            "219/219 [==============================] - 4s 19ms/step - loss: 1.4038 - accuracy: 0.6309 - val_loss: 1.8789 - val_accuracy: 0.5664\n",
            "Epoch 79/100\n",
            "219/219 [==============================] - 3s 12ms/step - loss: 1.3656 - accuracy: 0.6466 - val_loss: 1.8881 - val_accuracy: 0.5554\n",
            "Epoch 80/100\n",
            "219/219 [==============================] - 3s 12ms/step - loss: 1.3691 - accuracy: 0.6488 - val_loss: 1.8485 - val_accuracy: 0.5864\n",
            "Epoch 81/100\n",
            "219/219 [==============================] - 3s 12ms/step - loss: 1.3476 - accuracy: 0.6549 - val_loss: 1.8127 - val_accuracy: 0.5701\n",
            "Epoch 82/100\n",
            "219/219 [==============================] - 4s 16ms/step - loss: 1.3131 - accuracy: 0.6675 - val_loss: 1.8374 - val_accuracy: 0.5788\n",
            "Epoch 83/100\n",
            "219/219 [==============================] - 3s 14ms/step - loss: 1.2993 - accuracy: 0.6682 - val_loss: 1.7876 - val_accuracy: 0.5638\n",
            "Epoch 84/100\n",
            "219/219 [==============================] - 3s 12ms/step - loss: 1.2818 - accuracy: 0.6717 - val_loss: 1.7798 - val_accuracy: 0.5638\n",
            "Epoch 85/100\n",
            "219/219 [==============================] - 3s 12ms/step - loss: 1.2769 - accuracy: 0.6751 - val_loss: 1.7643 - val_accuracy: 0.5871\n",
            "Epoch 86/100\n",
            "219/219 [==============================] - 3s 12ms/step - loss: 1.2607 - accuracy: 0.6841 - val_loss: 1.7767 - val_accuracy: 0.5941\n",
            "Epoch 87/100\n",
            "219/219 [==============================] - 4s 17ms/step - loss: 1.2385 - accuracy: 0.6805 - val_loss: 1.8180 - val_accuracy: 0.5788\n",
            "Epoch 88/100\n",
            "219/219 [==============================] - 3s 12ms/step - loss: 1.2283 - accuracy: 0.6831 - val_loss: 1.8700 - val_accuracy: 0.5728\n",
            "Epoch 89/100\n",
            "219/219 [==============================] - 3s 12ms/step - loss: 1.2114 - accuracy: 0.6880 - val_loss: 1.8610 - val_accuracy: 0.5844\n",
            "Epoch 90/100\n",
            "219/219 [==============================] - 3s 12ms/step - loss: 1.2010 - accuracy: 0.7003 - val_loss: 1.7886 - val_accuracy: 0.5708\n",
            "Epoch 91/100\n",
            "219/219 [==============================] - 3s 14ms/step - loss: 1.1963 - accuracy: 0.7009 - val_loss: 1.8030 - val_accuracy: 0.5881\n",
            "Epoch 92/100\n",
            "219/219 [==============================] - 3s 15ms/step - loss: 1.1769 - accuracy: 0.7060 - val_loss: 1.7715 - val_accuracy: 0.5878\n",
            "Epoch 93/100\n",
            "219/219 [==============================] - 3s 12ms/step - loss: 1.1676 - accuracy: 0.7077 - val_loss: 1.7445 - val_accuracy: 0.5864\n",
            "Epoch 94/100\n",
            "219/219 [==============================] - 3s 12ms/step - loss: 1.1442 - accuracy: 0.7160 - val_loss: 1.8163 - val_accuracy: 0.5971\n",
            "Epoch 95/100\n",
            "219/219 [==============================] - 3s 12ms/step - loss: 1.1284 - accuracy: 0.7165 - val_loss: 1.8056 - val_accuracy: 0.5854\n",
            "Epoch 96/100\n",
            "219/219 [==============================] - 4s 17ms/step - loss: 1.1076 - accuracy: 0.7243 - val_loss: 1.8675 - val_accuracy: 0.5978\n",
            "Epoch 97/100\n",
            "219/219 [==============================] - 3s 13ms/step - loss: 1.1041 - accuracy: 0.7247 - val_loss: 1.8149 - val_accuracy: 0.5864\n",
            "Epoch 98/100\n",
            "219/219 [==============================] - 3s 12ms/step - loss: 1.0952 - accuracy: 0.7293 - val_loss: 1.8798 - val_accuracy: 0.5891\n",
            "Epoch 99/100\n",
            "219/219 [==============================] - 3s 12ms/step - loss: 1.0911 - accuracy: 0.7239 - val_loss: 1.7789 - val_accuracy: 0.6025\n",
            "Epoch 100/100\n",
            "219/219 [==============================] - 3s 12ms/step - loss: 1.0555 - accuracy: 0.7395 - val_loss: 1.8328 - val_accuracy: 0.5968\n"
          ]
        }
      ],
      "source": [
        "# train model\n",
        "history = model_regularized.fit(X_train, y_train, validation_data=(X_test, y_test), batch_size=32, epochs=100)\n",
        "     "
      ]
    },
    {
      "cell_type": "code",
      "execution_count": null,
      "metadata": {
        "colab": {
          "base_uri": "https://localhost:8080/",
          "height": 295
        },
        "id": "jsFsf1MJ1M0-",
        "outputId": "1b7c80b2-8289-421b-977a-2ff9076a20d1"
      },
      "outputs": [
        {
          "data": {
            "image/png": "[encoded data removed]",
            "text/plain": [
              "<Figure size 432x288 with 2 Axes>"
            ]
          },
          "metadata": {},
          "output_type": "display_data"
        }
      ],
      "source": [
        "# plot accuracy and error as a function of the epochs\n",
        "plot_history(history)\n",
        "     "
      ]
    },
    {
      "cell_type": "code",
      "execution_count": null,
      "metadata": {
        "id": "vj8qt6wC1M7Y"
      },
      "outputs": [],
      "source": [
        "#convolutional neural network\n",
        "# create train, validation and test split\n",
        "X_train, X_test, y_train, y_test = train_test_split(X, y, test_size=0.25)\n",
        "X_train, X_validation, y_train, y_validation = train_test_split(X_train, y_train, test_size=0.2)\n",
        "\n",
        "# add an axis to input sets\n",
        "X_train = X_train[..., np.newaxis]\n",
        "X_validation = X_validation[..., np.newaxis]\n",
        "X_test = X_test[..., np.newaxis]\n",
        "     \n"
      ]
    },
    {
      "cell_type": "code",
      "execution_count": null,
      "metadata": {
        "colab": {
          "base_uri": "https://localhost:8080/"
        },
        "id": "lF6Kphbz1M9L",
        "outputId": "c6121b46-e03a-4498-ae78-daface2d676d"
      },
      "outputs": [
        {
          "data": {
            "text/plain": [
              "(5991, 130, 13, 1)"
            ]
          },
          "execution_count": 66,
          "metadata": {},
          "output_type": "execute_result"
        }
      ],
      "source": [
        "X_train.shape"
      ]
    },
    {
      "cell_type": "code",
      "execution_count": null,
      "metadata": {
        "id": "Ac61c6V91NEK"
      },
      "outputs": [],
      "source": [
        "input_shape = (X_train.shape[1], X_train.shape[2], 1)"
      ]
    },
    {
      "cell_type": "code",
      "execution_count": null,
      "metadata": {
        "id": "vraAtsN-1NF2"
      },
      "outputs": [],
      "source": [
        "# build the CNN\n",
        "model_cnn = keras.Sequential()\n",
        "\n",
        "# 1st conv layer\n",
        "model_cnn.add(keras.layers.Conv2D(32, (3, 3), activation='relu', input_shape=input_shape))\n",
        "model_cnn.add(keras.layers.MaxPooling2D((3, 3), strides=(2, 2), padding='same'))\n",
        "model_cnn.add(keras.layers.BatchNormalization())\n",
        "\n",
        "# 2nd conv layer\n",
        "model_cnn.add(keras.layers.Conv2D(32, (3, 3), activation='relu'))\n",
        "model_cnn.add(keras.layers.MaxPooling2D((3, 3), strides=(2, 2), padding='same'))\n",
        "model_cnn.add(keras.layers.BatchNormalization())\n",
        "\n",
        "# 3rd conv layer\n",
        "model_cnn.add(keras.layers.Conv2D(32, (2, 2), activation='relu'))\n",
        "model_cnn.add(keras.layers.MaxPooling2D((2, 2), strides=(2, 2), padding='same'))\n",
        "model_cnn.add(keras.layers.BatchNormalization())\n",
        "\n",
        "# flatten output and feed it into dense layer\n",
        "model_cnn.add(keras.layers.Flatten())\n",
        "model_cnn.add(keras.layers.Dense(64, activation='relu'))\n",
        "model_cnn.add(keras.layers.Dropout(0.3))\n",
        "\n",
        "# output layer\n",
        "model_cnn.add(keras.layers.Dense(10, activation='softmax'))"
      ]
    },
    {
      "cell_type": "code",
      "execution_count": null,
      "metadata": {
        "id": "VuZvWUUr1NLH"
      },
      "outputs": [],
      "source": [
        "# compile model\n",
        "optimiser = keras.optimizers.Adam(learning_rate=0.0001)\n",
        "model_cnn.compile(optimizer=optimiser,\n",
        "              loss='sparse_categorical_crossentropy',\n",
        "              metrics=['accuracy'])"
      ]
    },
    {
      "cell_type": "code",
      "execution_count": null,
      "metadata": {
        "colab": {
          "base_uri": "https://localhost:8080/"
        },
        "id": "P3JuOB1T1NM0",
        "outputId": "b4dbc69a-d95d-4796-f2b9-bf8a5be5d1cd"
      },
      "outputs": [
        {
          "name": "stdout",
          "output_type": "stream",
          "text": [
            "Model: \"sequential_2\"\n",
            "_________________________________________________________________\n",
            " Layer (type)                Output Shape              Param #   \n",
            "=================================================================\n",
            " conv2d (Conv2D)             (None, 128, 11, 32)       320       \n",
            "                                                                 \n",
            " max_pooling2d (MaxPooling2D  (None, 64, 6, 32)        0         \n",
            " )                                                               \n",
            "                                                                 \n",
            " batch_normalization (BatchN  (None, 64, 6, 32)        128       \n",
            " ormalization)                                                   \n",
            "                                                                 \n",
            " conv2d_1 (Conv2D)           (None, 62, 4, 32)         9248      \n",
            "                                                                 \n",
            " max_pooling2d_1 (MaxPooling  (None, 31, 2, 32)        0         \n",
            " 2D)                                                             \n",
            "                                                                 \n",
            " batch_normalization_1 (Batc  (None, 31, 2, 32)        128       \n",
            " hNormalization)                                                 \n",
            "                                                                 \n",
            " conv2d_2 (Conv2D)           (None, 30, 1, 32)         4128      \n",
            "                                                                 \n",
            " max_pooling2d_2 (MaxPooling  (None, 15, 1, 32)        0         \n",
            " 2D)                                                             \n",
            "                                                                 \n",
            " batch_normalization_2 (Batc  (None, 15, 1, 32)        128       \n",
            " hNormalization)                                                 \n",
            "                                                                 \n",
            " flatten_2 (Flatten)         (None, 480)               0         \n",
            "                                                                 \n",
            " dense_8 (Dense)             (None, 64)                30784     \n",
            "                                                                 \n",
            " dropout_3 (Dropout)         (None, 64)                0         \n",
            "                                                                 \n",
            " dense_9 (Dense)             (None, 10)                650       \n",
            "                                                                 \n",
            "=================================================================\n",
            "Total params: 45,514\n",
            "Trainable params: 45,322\n",
            "Non-trainable params: 192\n",
            "_________________________________________________________________\n"
          ]
        }
      ],
      "source": [
        "model_cnn.summary()\n",
        "     "
      ]
    },
    {
      "cell_type": "code",
      "execution_count": null,
      "metadata": {
        "colab": {
          "base_uri": "https://localhost:8080/"
        },
        "id": "Y7FEtbtZ1NT2",
        "outputId": "be691d76-0309-4866-9898-3c06fa247c23"
      },
      "outputs": [
        {
          "name": "stdout",
          "output_type": "stream",
          "text": [
            "Epoch 1/50\n",
            "188/188 [==============================] - 14s 70ms/step - loss: 2.4508 - accuracy: 0.2145 - val_loss: 1.8454 - val_accuracy: 0.3518\n",
            "Epoch 2/50\n",
            "188/188 [==============================] - 13s 68ms/step - loss: 1.9362 - accuracy: 0.3398 - val_loss: 1.5810 - val_accuracy: 0.4406\n",
            "Epoch 3/50\n",
            "188/188 [==============================] - 13s 68ms/step - loss: 1.7002 - accuracy: 0.4068 - val_loss: 1.4421 - val_accuracy: 0.4780\n",
            "Epoch 4/50\n",
            "188/188 [==============================] - 13s 67ms/step - loss: 1.5624 - accuracy: 0.4488 - val_loss: 1.3511 - val_accuracy: 0.5194\n",
            "Epoch 5/50\n",
            "188/188 [==============================] - 13s 68ms/step - loss: 1.4539 - accuracy: 0.4809 - val_loss: 1.2925 - val_accuracy: 0.5347\n",
            "Epoch 6/50\n",
            "188/188 [==============================] - 13s 68ms/step - loss: 1.3927 - accuracy: 0.5111 - val_loss: 1.2328 - val_accuracy: 0.5547\n",
            "Epoch 7/50\n",
            "188/188 [==============================] - 13s 68ms/step - loss: 1.3298 - accuracy: 0.5345 - val_loss: 1.1862 - val_accuracy: 0.5768\n",
            "Epoch 8/50\n",
            "188/188 [==============================] - 13s 68ms/step - loss: 1.2825 - accuracy: 0.5411 - val_loss: 1.1567 - val_accuracy: 0.5848\n",
            "Epoch 9/50\n",
            "188/188 [==============================] - 13s 68ms/step - loss: 1.2244 - accuracy: 0.5669 - val_loss: 1.1178 - val_accuracy: 0.5961\n",
            "Epoch 10/50\n",
            "188/188 [==============================] - 15s 78ms/step - loss: 1.1980 - accuracy: 0.5849 - val_loss: 1.0800 - val_accuracy: 0.6128\n",
            "Epoch 11/50\n",
            "188/188 [==============================] - 13s 68ms/step - loss: 1.1554 - accuracy: 0.5961 - val_loss: 1.0772 - val_accuracy: 0.6155\n",
            "Epoch 12/50\n",
            "188/188 [==============================] - 13s 68ms/step - loss: 1.1246 - accuracy: 0.5992 - val_loss: 1.0278 - val_accuracy: 0.6348\n",
            "Epoch 13/50\n",
            "188/188 [==============================] - 13s 67ms/step - loss: 1.0878 - accuracy: 0.6199 - val_loss: 1.0292 - val_accuracy: 0.6368\n",
            "Epoch 14/50\n",
            "188/188 [==============================] - 13s 68ms/step - loss: 1.0707 - accuracy: 0.6243 - val_loss: 0.9884 - val_accuracy: 0.6495\n",
            "Epoch 15/50\n",
            "188/188 [==============================] - 13s 68ms/step - loss: 1.0107 - accuracy: 0.6526 - val_loss: 0.9809 - val_accuracy: 0.6509\n",
            "Epoch 16/50\n",
            "188/188 [==============================] - 13s 68ms/step - loss: 0.9996 - accuracy: 0.6511 - val_loss: 0.9553 - val_accuracy: 0.6595\n",
            "Epoch 17/50\n",
            "188/188 [==============================] - 13s 67ms/step - loss: 0.9613 - accuracy: 0.6655 - val_loss: 0.9388 - val_accuracy: 0.6696\n",
            "Epoch 18/50\n",
            "188/188 [==============================] - 13s 68ms/step - loss: 0.9382 - accuracy: 0.6682 - val_loss: 0.9746 - val_accuracy: 0.6502\n",
            "Epoch 19/50\n",
            "188/188 [==============================] - 13s 68ms/step - loss: 0.9022 - accuracy: 0.6909 - val_loss: 0.9214 - val_accuracy: 0.6789\n",
            "Epoch 20/50\n",
            "188/188 [==============================] - 13s 68ms/step - loss: 0.8992 - accuracy: 0.6810 - val_loss: 0.9155 - val_accuracy: 0.6796\n",
            "Epoch 21/50\n",
            "188/188 [==============================] - 13s 68ms/step - loss: 0.8696 - accuracy: 0.6927 - val_loss: 0.8824 - val_accuracy: 0.6916\n",
            "Epoch 22/50\n",
            "188/188 [==============================] - 13s 67ms/step - loss: 0.8556 - accuracy: 0.6955 - val_loss: 0.8730 - val_accuracy: 0.6983\n",
            "Epoch 23/50\n",
            "188/188 [==============================] - 13s 71ms/step - loss: 0.8453 - accuracy: 0.7029 - val_loss: 0.8574 - val_accuracy: 0.7029\n",
            "Epoch 24/50\n",
            "188/188 [==============================] - 13s 71ms/step - loss: 0.8375 - accuracy: 0.7099 - val_loss: 0.8528 - val_accuracy: 0.7063\n",
            "Epoch 25/50\n",
            "188/188 [==============================] - 14s 73ms/step - loss: 0.8124 - accuracy: 0.7199 - val_loss: 0.8556 - val_accuracy: 0.7029\n",
            "Epoch 26/50\n",
            "188/188 [==============================] - 15s 79ms/step - loss: 0.7843 - accuracy: 0.7244 - val_loss: 0.8397 - val_accuracy: 0.7063\n",
            "Epoch 27/50\n",
            "188/188 [==============================] - 16s 83ms/step - loss: 0.7664 - accuracy: 0.7343 - val_loss: 0.8540 - val_accuracy: 0.6949\n",
            "Epoch 28/50\n",
            "188/188 [==============================] - 14s 76ms/step - loss: 0.7699 - accuracy: 0.7286 - val_loss: 0.8300 - val_accuracy: 0.7083\n",
            "Epoch 29/50\n",
            "188/188 [==============================] - 14s 74ms/step - loss: 0.7407 - accuracy: 0.7450 - val_loss: 0.8208 - val_accuracy: 0.7116\n",
            "Epoch 30/50\n",
            "188/188 [==============================] - 18s 93ms/step - loss: 0.7170 - accuracy: 0.7500 - val_loss: 0.8514 - val_accuracy: 0.7063\n",
            "Epoch 31/50\n",
            "188/188 [==============================] - 14s 75ms/step - loss: 0.7133 - accuracy: 0.7543 - val_loss: 0.8147 - val_accuracy: 0.7203\n",
            "Epoch 32/50\n",
            "188/188 [==============================] - 14s 74ms/step - loss: 0.7050 - accuracy: 0.7551 - val_loss: 0.8112 - val_accuracy: 0.7203\n",
            "Epoch 33/50\n",
            "188/188 [==============================] - 14s 73ms/step - loss: 0.6919 - accuracy: 0.7643 - val_loss: 0.7948 - val_accuracy: 0.7250\n",
            "Epoch 34/50\n",
            "188/188 [==============================] - 14s 72ms/step - loss: 0.6585 - accuracy: 0.7707 - val_loss: 0.8193 - val_accuracy: 0.7150\n",
            "Epoch 35/50\n",
            "188/188 [==============================] - 14s 74ms/step - loss: 0.6639 - accuracy: 0.7730 - val_loss: 0.7885 - val_accuracy: 0.7236\n",
            "Epoch 36/50\n",
            "188/188 [==============================] - 14s 73ms/step - loss: 0.6320 - accuracy: 0.7832 - val_loss: 0.7690 - val_accuracy: 0.7310\n",
            "Epoch 37/50\n",
            "188/188 [==============================] - 14s 73ms/step - loss: 0.6359 - accuracy: 0.7792 - val_loss: 0.7858 - val_accuracy: 0.7190\n",
            "Epoch 38/50\n",
            "188/188 [==============================] - 14s 73ms/step - loss: 0.6221 - accuracy: 0.7835 - val_loss: 0.8005 - val_accuracy: 0.7143\n",
            "Epoch 39/50\n",
            "188/188 [==============================] - 14s 72ms/step - loss: 0.6182 - accuracy: 0.7882 - val_loss: 0.7693 - val_accuracy: 0.7270\n",
            "Epoch 40/50\n",
            "188/188 [==============================] - 14s 73ms/step - loss: 0.6079 - accuracy: 0.7917 - val_loss: 0.7792 - val_accuracy: 0.7310\n",
            "Epoch 41/50\n",
            "188/188 [==============================] - 14s 74ms/step - loss: 0.5994 - accuracy: 0.7934 - val_loss: 0.7886 - val_accuracy: 0.7263\n",
            "Epoch 42/50\n",
            "188/188 [==============================] - 16s 84ms/step - loss: 0.5721 - accuracy: 0.8044 - val_loss: 0.7698 - val_accuracy: 0.7316\n",
            "Epoch 43/50\n",
            "188/188 [==============================] - 14s 73ms/step - loss: 0.5719 - accuracy: 0.8104 - val_loss: 0.7608 - val_accuracy: 0.7343\n",
            "Epoch 44/50\n",
            "188/188 [==============================] - 14s 74ms/step - loss: 0.5502 - accuracy: 0.8132 - val_loss: 0.7451 - val_accuracy: 0.7443\n",
            "Epoch 45/50\n",
            "188/188 [==============================] - 14s 73ms/step - loss: 0.5435 - accuracy: 0.8134 - val_loss: 0.7776 - val_accuracy: 0.7276\n",
            "Epoch 46/50\n",
            "188/188 [==============================] - 14s 73ms/step - loss: 0.5395 - accuracy: 0.8109 - val_loss: 0.7509 - val_accuracy: 0.7316\n",
            "Epoch 47/50\n",
            "188/188 [==============================] - 14s 73ms/step - loss: 0.5298 - accuracy: 0.8159 - val_loss: 0.7592 - val_accuracy: 0.7397\n",
            "Epoch 48/50\n",
            "188/188 [==============================] - 14s 73ms/step - loss: 0.5104 - accuracy: 0.8229 - val_loss: 0.7547 - val_accuracy: 0.7350\n",
            "Epoch 49/50\n",
            "188/188 [==============================] - 14s 74ms/step - loss: 0.5100 - accuracy: 0.8272 - val_loss: 0.7641 - val_accuracy: 0.7403\n",
            "Epoch 50/50\n",
            "188/188 [==============================] - 14s 74ms/step - loss: 0.4865 - accuracy: 0.8332 - val_loss: 0.7469 - val_accuracy: 0.7363\n"
          ]
        }
      ],
      "source": [
        "# train model\n",
        "history = model_cnn.fit(X_train, y_train, validation_data=(X_validation, y_validation), batch_size=32, epochs=50)\n",
        "     "
      ]
    },
    {
      "cell_type": "code",
      "execution_count": null,
      "metadata": {
        "colab": {
          "base_uri": "https://localhost:8080/",
          "height": 295
        },
        "id": "wna5Ecoz1NWF",
        "outputId": "5cf542e9-99d9-4d07-f898-dd344d8b9787"
      },
      "outputs": [
        {
          "data": {
            "image/png": "[encoded data removed]",
            "text/plain": [
              "<Figure size 432x288 with 2 Axes>"
            ]
          },
          "metadata": {},
          "output_type": "display_data"
        }
      ],
      "source": [
        "# plot accuracy and error as a function of the epochs\n",
        "plot_history(history)"
      ]
    },
    {
      "cell_type": "code",
      "execution_count": null,
      "metadata": {
        "colab": {
          "base_uri": "https://localhost:8080/"
        },
        "id": "1kjpXm0Z-XNK",
        "outputId": "98d0c2de-e081-4f6d-db5a-8ee489895be6"
      },
      "outputs": [
        {
          "name": "stdout",
          "output_type": "stream",
          "text": [
            "79/79 - 1s - loss: 0.8304 - accuracy: 0.7213 - 1s/epoch - 16ms/step\n",
            "\n",
            "Test accuracy: 0.7212654948234558\n"
          ]
        }
      ],
      "source": [
        "# evaluate model on Test Set\n",
        "test_loss, test_acc = model_cnn.evaluate(X_test, y_test, verbose=2)\n",
        "print('\\nTest accuracy:', test_acc)"
      ]
    },
    {
      "cell_type": "code",
      "execution_count": null,
      "metadata": {
        "colab": {
          "base_uri": "https://localhost:8080/"
        },
        "id": "LKopn8qs-Xaz",
        "outputId": "22e22553-0821-4ada-8b3d-f5d8fd3597ab"
      },
      "outputs": [
        {
          "name": "stderr",
          "output_type": "stream",
          "text": [
            "WARNING:absl:Found untraced functions such as _jit_compiled_convolution_op, _jit_compiled_convolution_op, _jit_compiled_convolution_op while saving (showing 3 of 3). These functions will not be directly callable after loading.\n"
          ]
        }
      ],
      "source": [
        "model_cnn.save(\"Music_Genre_10_CNN\")"
      ]
    },
    {
      "cell_type": "code",
      "execution_count": null,
      "metadata": {
        "id": "q5xfd60d-XmJ"
      },
      "outputs": [],
      "source": [
        "model_cnn.save(\"Music_Genre_10_CNN.h5\")"
      ]
    },
    {
      "cell_type": "code",
      "execution_count": null,
      "metadata": {
        "id": "mURY8BGI-Xy4"
      },
      "outputs": [],
      "source": [
        "# It can be used to reconstruct the model identically.\n",
        "reconstructed_model = keras.models.load_model(\"Music_Genre_10_CNN.h5\")\n",
        "     "
      ]
    },
    {
      "cell_type": "code",
      "execution_count": null,
      "metadata": {
        "id": "l1gIRzqG-YAm"
      },
      "outputs": [],
      "source": [
        "#prediction on test set\n",
        "# pick a sample to predict from the test set\n",
        "X_to_predict = X_test[100]\n",
        "y_to_predict = y_test[100]\n",
        "     \n",
        "#X_to_predict=np.expand_dims(X_to_predict,axis=0)\n"
      ]
    },
    {
      "cell_type": "code",
      "execution_count": null,
      "metadata": {
        "colab": {
          "base_uri": "https://localhost:8080/"
        },
        "id": "JnFbFaB41Nal",
        "outputId": "e754cc34-7f7e-4a43-fdb1-44af0025b6b2"
      },
      "outputs": [
        {
          "data": {
            "text/plain": [
              "(130, 13, 1)"
            ]
          },
          "execution_count": 86,
          "metadata": {},
          "output_type": "execute_result"
        }
      ],
      "source": [
        "X_to_predict.shape"
      ]
    },
    {
      "cell_type": "code",
      "execution_count": null,
      "metadata": {
        "colab": {
          "base_uri": "https://localhost:8080/"
        },
        "id": "g7w0Z-26_GXu",
        "outputId": "504a68cd-69b6-4f89-ddc6-41c71b7fe4de"
      },
      "outputs": [
        {
          "name": "stdout",
          "output_type": "stream",
          "text": [
            "Real Genre: 1\n"
          ]
        }
      ],
      "source": [
        "print(\"Real Genre:\", y_to_predict)"
      ]
    },
    {
      "cell_type": "code",
      "execution_count": null,
      "metadata": {
        "id": "YliihtSo_Ghc"
      },
      "outputs": [],
      "source": [
        "# add a dimension to input data for sample - model.predict() expects a 4d array in this case\n",
        "X_to_predict = X_to_predict[np.newaxis, ...] # array shape (1, 130, 13, 1)\n",
        "     "
      ]
    },
    {
      "cell_type": "code",
      "execution_count": null,
      "metadata": {
        "colab": {
          "base_uri": "https://localhost:8080/"
        },
        "id": "HZ9wPpAA_Grl",
        "outputId": "4c065ba9-fb1a-4d26-fa06-26501ea6d0f0"
      },
      "outputs": [
        {
          "data": {
            "text/plain": [
              "(1, 130, 13, 1)"
            ]
          },
          "execution_count": 91,
          "metadata": {},
          "output_type": "execute_result"
        }
      ],
      "source": [
        "X_to_predict.shape\n",
        "     "
      ]
    },
    {
      "cell_type": "code",
      "execution_count": null,
      "metadata": {
        "colab": {
          "base_uri": "https://localhost:8080/"
        },
        "id": "dLQJueus_G1T",
        "outputId": "12349dab-c844-4159-d39d-2aed3885bf17"
      },
      "outputs": [
        {
          "name": "stdout",
          "output_type": "stream",
          "text": [
            "1/1 [==============================] - 0s 24ms/step\n"
          ]
        }
      ],
      "source": [
        "# perform prediction\n",
        "prediction = model_cnn.predict(X_to_predict)\n",
        "     "
      ]
    },
    {
      "cell_type": "code",
      "execution_count": null,
      "metadata": {
        "colab": {
          "base_uri": "https://localhost:8080/"
        },
        "id": "nFfLF7ue_HBV",
        "outputId": "5eea2644-8e30-4b4f-ae98-f388c8178f85"
      },
      "outputs": [
        {
          "name": "stdout",
          "output_type": "stream",
          "text": [
            "Predicted Genre: 9\n"
          ]
        }
      ],
      "source": [
        "# get index with max value\n",
        "predicted_index = np.argmax(prediction, axis=1)\n",
        "\n",
        "print(\"Predicted Genre:\", int(predicted_index))"
      ]
    },
    {
      "cell_type": "code",
      "execution_count": null,
      "metadata": {
        "colab": {
          "base_uri": "https://localhost:8080/"
        },
        "id": "6FsUJuvp_HUJ",
        "outputId": "8b69b1be-36dd-44e4-95b9-3c57b3b33fc2"
      },
      "outputs": [
        {
          "name": "stdout",
          "output_type": "stream",
          "text": [
            "Real Genre: 9\n",
            "1/1 [==============================] - 0s 21ms/step\n",
            "Predicted Genre: 9\n"
          ]
        }
      ],
      "source": [
        "# pick a sample to predict from the test set\n",
        "X_to_predict = X_test[50]\n",
        "y_to_predict = y_test[50]\n",
        "\n",
        "print(\"Real Genre:\", y_to_predict)\n",
        "\n",
        "X_to_predict = X_to_predict[np.newaxis, ...]\n",
        "\n",
        "prediction = model_cnn.predict(X_to_predict)\n",
        "\n",
        "# get index with max value\n",
        "predicted_index = np.argmax(prediction, axis=1)\n",
        "\n",
        "print(\"Predicted Genre:\", int(predicted_index))\n"
      ]
    },
    {
      "cell_type": "code",
      "execution_count": null,
      "metadata": {
        "colab": {
          "base_uri": "https://localhost:8080/"
        },
        "id": "2mhA652wB-Dz",
        "outputId": "a7fb5130-1770-4e38-8b80-eec3d9d9e99f"
      },
      "outputs": [
        {
          "data": {
            "text/plain": [
              "2497"
            ]
          },
          "execution_count": 95,
          "metadata": {},
          "output_type": "execute_result"
        }
      ],
      "source": [
        "len(X_test)"
      ]
    },
    {
      "cell_type": "code",
      "execution_count": null,
      "metadata": {
        "colab": {
          "base_uri": "https://localhost:8080/"
        },
        "id": "LJimDTm6B-Th",
        "outputId": "61c8967f-fce6-4cd1-b126-b81c02584623"
      },
      "outputs": [
        {
          "name": "stdout",
          "output_type": "stream",
          "text": [
            "\n",
            "Real Genre: 0\n",
            "1/1 [==============================] - 0s 22ms/step\n",
            "Predicted Genre: 0\n",
            "\n",
            "Real Genre: 6\n",
            "1/1 [==============================] - 0s 21ms/step\n",
            "Predicted Genre: 2\n",
            "\n",
            "Real Genre: 3\n",
            "1/1 [==============================] - 0s 20ms/step\n",
            "Predicted Genre: 3\n",
            "\n",
            "Real Genre: 4\n",
            "1/1 [==============================] - 0s 21ms/step\n",
            "Predicted Genre: 8\n",
            "\n",
            "Real Genre: 4\n",
            "1/1 [==============================] - 0s 20ms/step\n",
            "Predicted Genre: 4\n",
            "\n",
            "Real Genre: 9\n",
            "1/1 [==============================] - 0s 21ms/step\n",
            "Predicted Genre: 8\n",
            "\n",
            "Real Genre: 4\n",
            "1/1 [==============================] - 0s 24ms/step\n",
            "Predicted Genre: 4\n",
            "\n",
            "Real Genre: 9\n",
            "1/1 [==============================] - 0s 24ms/step\n",
            "Predicted Genre: 5\n",
            "\n",
            "Real Genre: 0\n",
            "1/1 [==============================] - 0s 25ms/step\n",
            "Predicted Genre: 0\n",
            "\n",
            "Real Genre: 9\n",
            "1/1 [==============================] - 0s 26ms/step\n",
            "Predicted Genre: 9\n"
          ]
        }
      ],
      "source": [
        "for n in range(10):\n",
        "\n",
        "  i = random.randint(0,len(X_test))\n",
        "  # pick a sample to predict from the test set\n",
        "  X_to_predict = X_test[i]\n",
        "  y_to_predict = y_test[i]\n",
        "\n",
        "  print(\"\\nReal Genre:\", y_to_predict)\n",
        "\n",
        "  X_to_predict = X_to_predict[np.newaxis, ...]\n",
        "\n",
        "  prediction = model_cnn.predict(X_to_predict)\n",
        "\n",
        "  # get index with max value\n",
        "  predicted_index = np.argmax(prediction, axis=1)\n",
        "\n",
        "  print(\"Predicted Genre:\", int(predicted_index))"
      ]
    },
    {
      "cell_type": "code",
      "execution_count": null,
      "metadata": {
        "id": "fQy5rpVUB-ff"
      },
      "outputs": [],
      "source": [
        "#prediction on new songs\n",
        "# Audio files pre-processing\n",
        "def process_input(audio_file, track_duration):\n",
        "\n",
        "  SAMPLE_RATE = 22050\n",
        "  NUM_MFCC = 13\n",
        "  N_FTT=2048\n",
        "  HOP_LENGTH=512\n",
        "  TRACK_DURATION = track_duration # measured in seconds\n",
        "  SAMPLES_PER_TRACK = SAMPLE_RATE * TRACK_DURATION\n",
        "  NUM_SEGMENTS = 10\n",
        "\n",
        "  samples_per_segment = int(SAMPLES_PER_TRACK / NUM_SEGMENTS)\n",
        "  num_mfcc_vectors_per_segment = math.ceil(samples_per_segment / HOP_LENGTH)\n",
        "\n",
        "  signal, sample_rate = librosa.load(audio_file, sr=SAMPLE_RATE)\n",
        "  \n",
        "  for d in range(10):\n",
        "\n",
        "    # calculate start and finish sample for current segment\n",
        "    start = samples_per_segment * d\n",
        "    finish = start + samples_per_segment\n",
        "\n",
        "    # extract mfcc\n",
        "    mfcc = librosa.feature.mfcc(signal[start:finish], sample_rate, n_mfcc=NUM_MFCC, n_fft=N_FTT, hop_length=HOP_LENGTH)\n",
        "    mfcc = mfcc.T\n",
        "\n",
        "    return mfcc\n"
      ]
    },
    {
      "cell_type": "code",
      "execution_count": null,
      "metadata": {
        "id": "7fQZe7egB-hQ"
      },
      "outputs": [],
      "source": [
        "genre_dict = {0:\"hiphop\",1:\"country\",2:\"jazz\",3:\"classical\",4:\"metal\",5:\"pop\",6:\"rock\",7:\"blues\",8:\"reggae\",9:\"disco\"}\n",
        "     "
      ]
    },
    {
      "cell_type": "code",
      "execution_count": null,
      "metadata": {
        "id": "AIDfXbhOB-nS"
      },
      "outputs": [],
      "source": [
        "new_input_mfcc = process_input(\"/content/drive/MyDrive/music_genre_classification/repeate-your-curiosity-128146.mp3\", 30)\n",
        "     "
      ]
    },
    {
      "cell_type": "code",
      "execution_count": null,
      "metadata": {
        "colab": {
          "base_uri": "https://localhost:8080/"
        },
        "id": "6TyWefiVB-pA",
        "outputId": "5728e22e-cbef-4625-e5a5-0226e6b57798"
      },
      "outputs": [
        {
          "data": {
            "text/plain": [
              "numpy.ndarray"
            ]
          },
          "execution_count": 101,
          "metadata": {},
          "output_type": "execute_result"
        }
      ],
      "source": [
        "type(new_input_mfcc)"
      ]
    },
    {
      "cell_type": "code",
      "execution_count": null,
      "metadata": {
        "colab": {
          "base_uri": "https://localhost:8080/"
        },
        "id": "7NsBKeAZB-tz",
        "outputId": "c6a5f5be-9c20-4a7a-b66f-d64d6f2cb7c9"
      },
      "outputs": [
        {
          "data": {
            "text/plain": [
              "(130, 13)"
            ]
          },
          "execution_count": 102,
          "metadata": {},
          "output_type": "execute_result"
        }
      ],
      "source": [
        "new_input_mfcc.shape"
      ]
    },
    {
      "cell_type": "code",
      "execution_count": null,
      "metadata": {
        "colab": {
          "base_uri": "https://localhost:8080/"
        },
        "id": "a3DGNO1PB-w1",
        "outputId": "333041c8-c2bb-4c67-814d-f2b2cdb1f4dc"
      },
      "outputs": [
        {
          "data": {
            "text/plain": [
              "(1, 130, 13, 1)"
            ]
          },
          "execution_count": 103,
          "metadata": {},
          "output_type": "execute_result"
        }
      ],
      "source": [
        "X_to_predict = new_input_mfcc[np.newaxis, ..., np.newaxis]\n",
        "X_to_predict.shape\n"
      ]
    },
    {
      "cell_type": "code",
      "execution_count": null,
      "metadata": {
        "colab": {
          "base_uri": "https://localhost:8080/"
        },
        "id": "4CUxxMZIB-0H",
        "outputId": "22061000-d8c9-46ed-b02b-88365e425bdf"
      },
      "outputs": [
        {
          "name": "stdout",
          "output_type": "stream",
          "text": [
            "1/1 [==============================] - 0s 26ms/step\n",
            "Predicted Genre: classical\n"
          ]
        }
      ],
      "source": [
        "prediction = model_cnn.predict(X_to_predict)\n",
        "\n",
        "# get index with max value\n",
        "predicted_index = np.argmax(prediction, axis=1)\n",
        "\n",
        "print(\"Predicted Genre:\", genre_dict[int(predicted_index)])\n",
        "     "
      ]
    },
    {
      "cell_type": "code",
      "execution_count": null,
      "metadata": {
        "colab": {
          "base_uri": "https://localhost:8080/"
        },
        "id": "8-Sw60dTB-1_",
        "outputId": "c1cd43e2-80d6-4e49-c598-d23b7d85aa0e"
      },
      "outputs": [
        {
          "name": "stderr",
          "output_type": "stream",
          "text": [
            "/usr/local/lib/python3.8/dist-packages/librosa/core/audio.py:165: UserWarning: PySoundFile failed. Trying audioread instead.\n",
            "  warnings.warn(\"PySoundFile failed. Trying audioread instead.\")\n"
          ]
        }
      ],
      "source": [
        "new_input_mfcc = process_input(\"/content/drive/MyDrive/music_genre_classification/Filmy Ghost (Sábila Orbe) - KD6-3.7.mp3\", 30)\n",
        "     "
      ]
    },
    {
      "cell_type": "code",
      "execution_count": null,
      "metadata": {
        "colab": {
          "base_uri": "https://localhost:8080/"
        },
        "id": "go8A3SMHB-6U",
        "outputId": "d5a45495-a9b8-4b17-e82f-c412ea246075"
      },
      "outputs": [
        {
          "data": {
            "text/plain": [
              "(1, 130, 13, 1)"
            ]
          },
          "execution_count": 106,
          "metadata": {},
          "output_type": "execute_result"
        }
      ],
      "source": [
        "X_to_predict = new_input_mfcc[np.newaxis, ..., np.newaxis]\n",
        "X_to_predict.shape\n",
        "     "
      ]
    },
    {
      "cell_type": "code",
      "execution_count": null,
      "metadata": {
        "colab": {
          "base_uri": "https://localhost:8080/"
        },
        "id": "LSartPPBB-8B",
        "outputId": "ac19119e-b574-4111-d28d-2723bb22bb10"
      },
      "outputs": [
        {
          "name": "stdout",
          "output_type": "stream",
          "text": [
            "1/1 [==============================] - 0s 19ms/step\n",
            "Predicted Genre: blues\n"
          ]
        }
      ],
      "source": [
        "prediction = model_cnn.predict(X_to_predict)\n",
        "\n",
        "# get index with max value\n",
        "predicted_index = np.argmax(prediction, axis=1)\n",
        "\n",
        "print(\"Predicted Genre:\", genre_dict[int(predicted_index)])\n",
        "     "
      ]
    },
    {
      "cell_type": "code",
      "execution_count": null,
      "metadata": {
        "id": "4UmcT3yNB_AW"
      },
      "outputs": [],
      "source": []
    }
  ],
  "metadata": {
    "colab": {
      "provenance": []
    },
    "kernelspec": {
      "display_name": "Python 3",
      "name": "python3"
    },
    "language_info": {
      "name": "python"
    }
  },
  "nbformat": 4,
  "nbformat_minor": 0
}